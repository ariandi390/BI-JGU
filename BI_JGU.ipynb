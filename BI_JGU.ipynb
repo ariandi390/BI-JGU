{
  "nbformat": 4,
  "nbformat_minor": 0,
  "metadata": {
    "colab": {
      "name": "BI-JGU.ipynb",
      "provenance": [],
      "authorship_tag": "ABX9TyOSfeXnHKiyxncWXMKjpBAq",
      "include_colab_link": true
    },
    "kernelspec": {
      "name": "python3",
      "display_name": "Python 3"
    }
  },
  "cells": [
    {
      "cell_type": "markdown",
      "metadata": {
        "id": "view-in-github",
        "colab_type": "text"
      },
      "source": [
        "<a href=\"https://colab.research.google.com/github/ariandi390/BI-JGU/blob/main/BI_JGU.ipynb\" target=\"_parent\"><img src=\"https://colab.research.google.com/assets/colab-badge.svg\" alt=\"Open In Colab\"/></a>"
      ]
    },
    {
      "cell_type": "code",
      "metadata": {
        "id": "21vL4xT4_UJC",
        "outputId": "da00c55f-412d-4ff9-fa47-c68f339e4ef0",
        "colab": {
          "base_uri": "https://localhost:8080/",
          "height": 34
        }
      },
      "source": [
        "print(\"Halo apa kabar\",\"kamu hari ini\",\"?\")"
      ],
      "execution_count": null,
      "outputs": [
        {
          "output_type": "stream",
          "text": [
            "Halo apa kabar kamu hari ini ?\n"
          ],
          "name": "stdout"
        }
      ]
    },
    {
      "cell_type": "code",
      "metadata": {
        "id": "X6lyFR68AYSI",
        "outputId": "f8b9e9d8-8154-4b95-b62c-67495e560ddb",
        "colab": {
          "base_uri": "https://localhost:8080/",
          "height": 34
        }
      },
      "source": [
        "print(\"No ke-\",1)"
      ],
      "execution_count": null,
      "outputs": [
        {
          "output_type": "stream",
          "text": [
            "No ke- 1\n"
          ],
          "name": "stdout"
        }
      ]
    },
    {
      "cell_type": "code",
      "metadata": {
        "id": "UKx0BLavA6kC",
        "outputId": "7cb66ff0-6aed-4f0c-b2bf-a5e227d8a7eb",
        "colab": {
          "base_uri": "https://localhost:8080/",
          "height": 34
        }
      },
      "source": [
        "#int tipe1 = 0\n",
        "#float tipe2 = 1.2\n",
        "#string tipe3 = \"tiga\"\n",
        "\n",
        "\n",
        "tipe1 = 0\n",
        "tipe2 = 2\n",
        "tipe3 = \"tiga\"\n",
        "\n",
        "print(tipe3)\n",
        "type(tipe3)"
      ],
      "execution_count": null,
      "outputs": [
        {
          "output_type": "stream",
          "text": [
            "tiga\n"
          ],
          "name": "stdout"
        }
      ]
    },
    {
      "cell_type": "code",
      "metadata": {
        "id": "7C9cMEDSDQMr",
        "outputId": "f051915e-b2ef-48ab-d59f-cdef2325fc32",
        "colab": {
          "base_uri": "https://localhost:8080/",
          "height": 34
        }
      },
      "source": [
        "x = 3\n",
        "y = 2\n",
        "z = x + y\n",
        "print(z)"
      ],
      "execution_count": null,
      "outputs": [
        {
          "output_type": "stream",
          "text": [
            "5\n"
          ],
          "name": "stdout"
        }
      ]
    },
    {
      "cell_type": "code",
      "metadata": {
        "id": "_BrJxjZ1D355",
        "outputId": "89717714-30bb-4734-b8c9-4080387fcfc8",
        "colab": {
          "base_uri": "https://localhost:8080/",
          "height": 51
        }
      },
      "source": [
        "a = 1\n",
        "b = a + 1\n",
        "b = 2\n",
        "c = a + b\n",
        "type(c)\n",
        "c = str(c)\n",
        "print (c)\n",
        "type(c)"
      ],
      "execution_count": null,
      "outputs": [
        {
          "output_type": "stream",
          "text": [
            "3\n"
          ],
          "name": "stdout"
        },
        {
          "output_type": "execute_result",
          "data": {
            "text/plain": [
              "str"
            ]
          },
          "metadata": {
            "tags": []
          },
          "execution_count": 14
        }
      ]
    },
    {
      "cell_type": "code",
      "metadata": {
        "id": "L8SvzvLJWlzW",
        "outputId": "f1c14371-cbb4-4643-e958-ebb8bca034c7",
        "colab": {
          "base_uri": "https://localhost:8080/",
          "height": 34
        }
      },
      "source": [
        "b =str(a)\n",
        "print(b*5)"
      ],
      "execution_count": null,
      "outputs": [
        {
          "output_type": "stream",
          "text": [
            "11111\n"
          ],
          "name": "stdout"
        }
      ]
    },
    {
      "cell_type": "code",
      "metadata": {
        "id": "hDf3oQxsXJ5n",
        "outputId": "61b73ca8-3824-49cd-9f05-73bb098a5517",
        "colab": {
          "base_uri": "https://localhost:8080/",
          "height": 34
        }
      },
      "source": [
        "b = \"hai\"\n",
        "print(b*5)\n"
      ],
      "execution_count": null,
      "outputs": [
        {
          "output_type": "stream",
          "text": [
            "haihaihaihaihai\n"
          ],
          "name": "stdout"
        }
      ]
    },
    {
      "cell_type": "code",
      "metadata": {
        "id": "dpbvMTrlU2NO",
        "outputId": "7110fb59-d265-4722-926a-eeeb57220790",
        "colab": {
          "base_uri": "https://localhost:8080/",
          "height": 34
        }
      },
      "source": [
        "a = 2\n",
        "b = 3\n",
        "print(\"a adalah\",a,\"dan\",\"b adalah\",b)"
      ],
      "execution_count": null,
      "outputs": [
        {
          "output_type": "stream",
          "text": [
            "a adalah 2 dan b adalah 3\n"
          ],
          "name": "stdout"
        }
      ]
    },
    {
      "cell_type": "code",
      "metadata": {
        "id": "elLi47XYYaji",
        "outputId": "b9f33c19-5b63-45e9-ff3a-4bdf6557fbe8",
        "colab": {
          "base_uri": "https://localhost:8080/",
          "height": 34
        }
      },
      "source": [
        "c = a\n",
        "a = b\n",
        "b = c\n",
        "print(\"a adalah\",a,\"dan\",\"b adalah\",b)"
      ],
      "execution_count": null,
      "outputs": [
        {
          "output_type": "stream",
          "text": [
            "a adalah 3 dan b adalah 2\n"
          ],
          "name": "stdout"
        }
      ]
    },
    {
      "cell_type": "code",
      "metadata": {
        "id": "xQwcZwqFY0k6",
        "outputId": "3fbb2c2f-e63f-4dc6-e538-3fe9f514a910",
        "colab": {
          "base_uri": "https://localhost:8080/",
          "height": 34
        }
      },
      "source": [
        "# tambah => +\n",
        "# kurang => -\n",
        "# kali => *\n",
        "# bagi => /\n",
        "# pangkat => **\n",
        "\n",
        "print(\"hai\"*(2**3))\n"
      ],
      "execution_count": null,
      "outputs": [
        {
          "output_type": "stream",
          "text": [
            "haihaihaihaihaihaihaihai\n"
          ],
          "name": "stdout"
        }
      ]
    },
    {
      "cell_type": "code",
      "metadata": {
        "id": "cUXCbOPeag0s",
        "outputId": "15b0b33e-936e-49a6-9eb6-f8812817457a",
        "colab": {
          "base_uri": "https://localhost:8080/",
          "height": 68
        }
      },
      "source": [
        "print(\"masukkan nama anda?\")\n",
        "a = input()\n",
        "print(\"halo\",a,\", senang berkenalan dengan anda\")\n"
      ],
      "execution_count": null,
      "outputs": [
        {
          "output_type": "stream",
          "text": [
            "masukkan nama anda?\n",
            "ARIANDI\n",
            "halo ARIANDI , senang berkenalan dengan anda\n"
          ],
          "name": "stdout"
        }
      ]
    },
    {
      "cell_type": "code",
      "metadata": {
        "id": "3owaede8YG-c"
      },
      "source": [
        ""
      ],
      "execution_count": null,
      "outputs": []
    },
    {
      "cell_type": "code",
      "metadata": {
        "id": "7clhrGVrXfAH"
      },
      "source": [
        ""
      ],
      "execution_count": null,
      "outputs": []
    },
    {
      "cell_type": "code",
      "metadata": {
        "id": "acQIkPoWUcVL"
      },
      "source": [
        ""
      ],
      "execution_count": null,
      "outputs": []
    }
  ]
}